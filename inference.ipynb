{
 "cells": [
  {
   "cell_type": "code",
   "execution_count": 1,
   "id": "0bf5959c-234e-489c-aa0f-992c320ed243",
   "metadata": {},
   "outputs": [
    {
     "name": "stderr",
     "output_type": "stream",
     "text": [
      "\u001b[1m\u001b[1mINFO    \u001b[0m\u001b[1m\u001b[0m - \u001b[1mThe mmdet config folder already exists. No need to downloaded it. Path : /home/dnth/.icevision/mmdetection_configs/mmdetection_configs-2.16.0/configs\u001b[0m | \u001b[36micevision.models.mmdet.download_configs\u001b[0m:\u001b[36mdownload_mmdet_configs\u001b[0m:\u001b[36m17\u001b[0m\n"
     ]
    }
   ],
   "source": [
    "from icevision.all import *"
   ]
  },
  {
   "cell_type": "code",
   "execution_count": null,
   "id": "26237524-cf4d-41aa-89d7-7f83fae22d09",
   "metadata": {},
   "outputs": [],
   "source": [
    "# from icevision.models.checkpoint import *\n",
    "# checkpoint_path = 'models/model.pth'\n",
    "# checkpoint_and_model = model_from_checkpoint(checkpoint_path, \n",
    "#     model_name='torchvision.retinanet', \n",
    "#     backbone_name='resnet50_fpn',\n",
    "#     img_size=640, classes=classes)\n",
    "\n",
    "# model = checkpoint_and_model[\"model\"]\n",
    "# model_type = checkpoint_and_model[\"model_type\"]\n",
    "# class_map = checkpoint_and_model[\"class_map\"]"
   ]
  },
  {
   "cell_type": "code",
   "execution_count": 5,
   "id": "04df714f-24e7-4aa6-823d-b8103c28ba9e",
   "metadata": {},
   "outputs": [
    {
     "name": "stdout",
     "output_type": "stream",
     "text": [
      "load checkpoint from local path: models/model_checkpoint.pth\n"
     ]
    }
   ],
   "source": [
    "from icevision.models.checkpoint import *\n",
    "checkpoint_path = 'models/model_checkpoint.pth'\n",
    "checkpoint_and_model = model_from_checkpoint(checkpoint_path)\n",
    "\n",
    "model = checkpoint_and_model[\"model\"]\n",
    "model_type = checkpoint_and_model[\"model_type\"]\n",
    "class_map = checkpoint_and_model[\"class_map\"]"
   ]
  },
  {
   "cell_type": "code",
   "execution_count": 6,
   "id": "28fecaaf-d3a6-4aa7-98e8-3d7ee540b0e0",
   "metadata": {},
   "outputs": [],
   "source": [
    "# Transforms\n",
    "img_size = checkpoint_and_model[\"img_size\"]\n",
    "valid_tfms = tfms.A.Adapter([*tfms.A.resize_and_pad(img_size), tfms.A.Normalize()])"
   ]
  },
  {
   "cell_type": "code",
   "execution_count": null,
   "id": "bca7fea1-6b11-4349-9da5-7a6af422e5c0",
   "metadata": {},
   "outputs": [],
   "source": [
    "# Pick your images folder\n",
    "path_to_image_folder = \"./sample_images\"\n",
    "img_files = get_image_files(path_to_image_folder)\n",
    "img = PIL.Image.open(img_files[-2])\n",
    "\n",
    "pred_dict  = model_type.end2end_detect(img, valid_tfms, model, class_map=class_map, detection_threshold=0.5)\n",
    "pred_dict['img']"
   ]
  },
  {
   "cell_type": "code",
   "execution_count": null,
   "id": "4e16e820-c61e-4044-a95a-2e4e704df89a",
   "metadata": {},
   "outputs": [],
   "source": []
  },
  {
   "cell_type": "code",
   "execution_count": null,
   "id": "7daf6818-04d7-4bde-bccd-6474250529e9",
   "metadata": {},
   "outputs": [],
   "source": []
  }
 ],
 "metadata": {
  "kernelspec": {
   "display_name": "Python 3",
   "language": "python",
   "name": "python3"
  },
  "language_info": {
   "codemirror_mode": {
    "name": "ipython",
    "version": 3
   },
   "file_extension": ".py",
   "mimetype": "text/x-python",
   "name": "python",
   "nbconvert_exporter": "python",
   "pygments_lexer": "ipython3",
   "version": "3.8.12"
  }
 },
 "nbformat": 4,
 "nbformat_minor": 5
}
